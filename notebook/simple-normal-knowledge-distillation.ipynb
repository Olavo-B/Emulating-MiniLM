{
 "cells": [
  {
   "cell_type": "markdown",
   "metadata": {},
   "source": [
    "# Knowledge Distillation with BERT\n",
    "\n",
    "## Overview\n",
    "A simple implementation of knowledge distillation using BERT for sentiment classification."
   ]
  },
  {
   "cell_type": "code",
   "execution_count": 2,
   "metadata": {},
   "outputs": [
    {
     "name": "stdout",
     "output_type": "stream",
     "text": [
      "Using device: cuda\n"
     ]
    }
   ],
   "source": [
    "# Import necessary libraries\n",
    "import torch\n",
    "import torch.nn as nn\n",
    "from transformers import BertForSequenceClassification, BertTokenizer\n",
    "from datasets import load_dataset\n",
    "from torch.utils.data import DataLoader, TensorDataset\n",
    "\n",
    "# Check for GPU\n",
    "device = torch.device('cuda' if torch.cuda.is_available() else 'cpu')\n",
    "print(f'Using device: {device}')"
   ]
  },
  {
   "cell_type": "code",
   "execution_count": 3,
   "metadata": {},
   "outputs": [
    {
     "name": "stderr",
     "output_type": "stream",
     "text": [
      "Generating train split: 100%|██████████| 67349/67349 [00:00<00:00, 1957806.98 examples/s]\n",
      "Generating validation split: 100%|██████████| 872/872 [00:00<00:00, 599186.29 examples/s]\n",
      "Generating test split: 100%|██████████| 1821/1821 [00:00<00:00, 1031163.44 examples/s]\n"
     ]
    }
   ],
   "source": [
    "# Load dataset\n",
    "dataset = load_dataset('glue', 'sst2')['train']\n",
    "\n",
    "# Initialize tokenizer\n",
    "tokenizer = BertTokenizer.from_pretrained('bert-base-uncased')\n",
    "\n",
    "# Tokenize and prepare data\n",
    "def prepare_data(examples, max_length=128):\n",
    "    encodings = tokenizer(\n",
    "        examples['sentence'], \n",
    "        truncation=True, \n",
    "        padding='max_length', \n",
    "        max_length=max_length\n",
    "    )\n",
    "    \n",
    "    return {\n",
    "        'input_ids': torch.tensor(encodings['input_ids']),\n",
    "        'attention_mask': torch.tensor(encodings['attention_mask']),\n",
    "        'labels': torch.tensor(examples['label'])\n",
    "    }\n",
    "\n",
    "# Prepare dataset\n",
    "processed_data = prepare_data(dataset[:1000])  # Use first 1000 samples for demonstration"
   ]
  },
  {
   "cell_type": "code",
   "execution_count": 4,
   "metadata": {},
   "outputs": [],
   "source": [
    "# Knowledge Distillation Loss Function\n",
    "def knowledge_distillation_loss(student_outputs, teacher_outputs, labels, temperature=2.0, alpha=0.5):\n",
    "    # Soft target loss\n",
    "    soft_loss = nn.KLDivLoss(reduction='batchmean')(\n",
    "        torch.log_softmax(student_outputs / temperature, dim=1),\n",
    "        torch.softmax(teacher_outputs / temperature, dim=1)\n",
    "    )\n",
    "    \n",
    "    # Hard target loss\n",
    "    hard_loss = nn.CrossEntropyLoss()(student_outputs, labels)\n",
    "    \n",
    "    # Combine losses\n",
    "    return alpha * soft_loss + (1 - alpha) * hard_loss"
   ]
  },
  {
   "cell_type": "code",
   "execution_count": 5,
   "metadata": {},
   "outputs": [
    {
     "name": "stderr",
     "output_type": "stream",
     "text": [
      "Some weights of BertForSequenceClassification were not initialized from the model checkpoint at bert-base-uncased and are newly initialized: ['classifier.bias', 'classifier.weight']\n",
      "You should probably TRAIN this model on a down-stream task to be able to use it for predictions and inference.\n",
      "Some weights of BertForSequenceClassification were not initialized from the model checkpoint at bert-base-uncased and are newly initialized: ['classifier.bias', 'classifier.weight']\n",
      "You should probably TRAIN this model on a down-stream task to be able to use it for predictions and inference.\n"
     ]
    }
   ],
   "source": [
    "# Create DataLoader\n",
    "dataset = TensorDataset(\n",
    "    processed_data['input_ids'], \n",
    "    processed_data['attention_mask'], \n",
    "    processed_data['labels']\n",
    ")\n",
    "dataloader = DataLoader(dataset, batch_size=32, shuffle=True)\n",
    "\n",
    "# Initialize teacher and student models\n",
    "teacher_model = BertForSequenceClassification.from_pretrained('bert-base-uncased').to(device)\n",
    "student_model = BertForSequenceClassification.from_pretrained('bert-base-uncased', num_labels=2).to(device)\n",
    "\n",
    "# Freeze teacher model\n",
    "for param in teacher_model.parameters():\n",
    "    param.requires_grad = False\n",
    "\n",
    "# Training Setup\n",
    "optimizer = torch.optim.AdamW(student_model.parameters(), lr=2e-5)\n",
    "epochs = 3"
   ]
  },
  {
   "cell_type": "code",
   "execution_count": 6,
   "metadata": {},
   "outputs": [
    {
     "name": "stdout",
     "output_type": "stream",
     "text": [
      "Epoch 1, Loss: 0.32823586091399193\n",
      "Epoch 2, Loss: 0.21574989007785916\n",
      "Epoch 3, Loss: 0.17426472157239914\n"
     ]
    }
   ],
   "source": [
    "# Training Loop\n",
    "for epoch in range(epochs):\n",
    "    student_model.train()\n",
    "    teacher_model.eval()\n",
    "    total_loss = 0\n",
    "    \n",
    "    for batch in dataloader:\n",
    "        # Unpack batch\n",
    "        input_ids, attention_mask, labels = [b.to(device) for b in batch]\n",
    "        \n",
    "        # Zero gradients\n",
    "        optimizer.zero_grad()\n",
    "        \n",
    "        # Forward pass\n",
    "        with torch.no_grad():\n",
    "            teacher_output = teacher_model(input_ids, attention_mask=attention_mask)\n",
    "        \n",
    "        student_output = student_model(input_ids, attention_mask=attention_mask)\n",
    "        \n",
    "        # Compute loss\n",
    "        loss = knowledge_distillation_loss(\n",
    "            student_output.logits, \n",
    "            teacher_output.logits, \n",
    "            labels\n",
    "        )\n",
    "        \n",
    "        # Backward pass\n",
    "        loss.backward()\n",
    "        optimizer.step()\n",
    "        \n",
    "        total_loss += loss.item()\n",
    "    \n",
    "    print(f'Epoch {epoch+1}, Loss: {total_loss/len(dataloader)}')\n",
    "\n",
    "# Save student model\n",
    "torch.save(student_model.state_dict(), 'student_model.pt')"
   ]
  }
 ],
 "metadata": {
  "kernelspec": {
   "display_name": "Python 3",
   "language": "python",
   "name": "python3"
  },
  "language_info": {
   "codemirror_mode": {
    "name": "ipython",
    "version": 3
   },
   "file_extension": ".py",
   "mimetype": "text/x-python",
   "name": "python",
   "nbconvert_exporter": "python",
   "pygments_lexer": "ipython3",
   "version": "3.10.12"
  }
 },
 "nbformat": 4,
 "nbformat_minor": 2
}
